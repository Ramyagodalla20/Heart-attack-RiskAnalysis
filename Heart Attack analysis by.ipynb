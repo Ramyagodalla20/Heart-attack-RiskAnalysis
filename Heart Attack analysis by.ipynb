{
 "cells": [
  {
   "cell_type": "markdown",
   "id": "7bdfaf4a",
   "metadata": {},
   "source": [
    "# Import Libraries\n",
    "\n",
    "import pandas as pd\n",
    "from sklearn.naive_bayes import GaussianNB\n",
    "from pandas.plotting import scatter_matrix\n",
    "import seaborn as sns\n",
    "import matplotlib\n",
    "matplotlib.use('Agg')\n",
    "import matplotlib.pyplot as plt\n",
    "import numpy as np"
   ]
  },
  {
   "cell_type": "markdown",
   "id": "787616de",
   "metadata": {},
   "source": [
    "# Import Data file\n",
    "\n",
    "df = pd.read_csv(\"D:\\\\ML\\\\heart attack\\\\heart_attack.csv\")"
   ]
  },
  {
   "cell_type": "markdown",
   "id": "08e4cdc3",
   "metadata": {},
   "source": [
    "# Data Description & DTypes"
   ]
  },
  {
   "cell_type": "code",
   "execution_count": 79,
   "id": "56cd6641",
   "metadata": {},
   "outputs": [
    {
     "data": {
      "text/plain": [
       "(8763, 26)"
      ]
     },
     "execution_count": 79,
     "metadata": {},
     "output_type": "execute_result"
    }
   ],
   "source": [
    "df.shape"
   ]
  },
  {
   "cell_type": "code",
   "execution_count": 127,
   "id": "eda7bade",
   "metadata": {},
   "outputs": [],
   "source": [
    "pd.set_option(\"display.max_columns\", None)\n",
    "pd.set_option(\"display.max_rows\", None)"
   ]
  },
  {
   "cell_type": "code",
   "execution_count": 128,
   "id": "08e4efb0",
   "metadata": {
    "scrolled": false
   },
   "outputs": [
    {
     "data": {
      "text/html": [
       "<div>\n",
       "<style scoped>\n",
       "    .dataframe tbody tr th:only-of-type {\n",
       "        vertical-align: middle;\n",
       "    }\n",
       "\n",
       "    .dataframe tbody tr th {\n",
       "        vertical-align: top;\n",
       "    }\n",
       "\n",
       "    .dataframe thead th {\n",
       "        text-align: right;\n",
       "    }\n",
       "</style>\n",
       "<table border=\"1\" class=\"dataframe\">\n",
       "  <thead>\n",
       "    <tr style=\"text-align: right;\">\n",
       "      <th></th>\n",
       "      <th>Patient ID</th>\n",
       "      <th>Age</th>\n",
       "      <th>Sex</th>\n",
       "      <th>Cholesterol</th>\n",
       "      <th>Blood Pressure</th>\n",
       "      <th>Heart Rate</th>\n",
       "      <th>Diabetes</th>\n",
       "      <th>Family History</th>\n",
       "      <th>Smoking</th>\n",
       "      <th>Obesity</th>\n",
       "      <th>Alcohol Consumption</th>\n",
       "      <th>Exercise Hours Per Week</th>\n",
       "      <th>Diet</th>\n",
       "      <th>Previous Heart Problems</th>\n",
       "      <th>Medication Use</th>\n",
       "      <th>Stress Level</th>\n",
       "      <th>Sedentary Hours Per Day</th>\n",
       "      <th>Income</th>\n",
       "      <th>BMI</th>\n",
       "      <th>Triglycerides</th>\n",
       "      <th>Physical Activity Days Per Week</th>\n",
       "      <th>Sleep Hours Per Day</th>\n",
       "      <th>Country</th>\n",
       "      <th>Continent</th>\n",
       "      <th>Hemisphere</th>\n",
       "      <th>Heart Attack Risk</th>\n",
       "    </tr>\n",
       "  </thead>\n",
       "  <tbody>\n",
       "    <tr>\n",
       "      <th>0</th>\n",
       "      <td>RDG0550</td>\n",
       "      <td>33</td>\n",
       "      <td>1</td>\n",
       "      <td>200</td>\n",
       "      <td>109.5</td>\n",
       "      <td>48</td>\n",
       "      <td>0</td>\n",
       "      <td>1</td>\n",
       "      <td>1</td>\n",
       "      <td>1</td>\n",
       "      <td>1</td>\n",
       "      <td>7.807690</td>\n",
       "      <td>2</td>\n",
       "      <td>0</td>\n",
       "      <td>1</td>\n",
       "      <td>2</td>\n",
       "      <td>0.138443</td>\n",
       "      <td>184066</td>\n",
       "      <td>30.449815</td>\n",
       "      <td>63</td>\n",
       "      <td>6</td>\n",
       "      <td>7</td>\n",
       "      <td>Argentina</td>\n",
       "      <td>South America</td>\n",
       "      <td>Southern Hemisphere</td>\n",
       "      <td>1.0</td>\n",
       "    </tr>\n",
       "    <tr>\n",
       "      <th>1</th>\n",
       "      <td>NMA3851</td>\n",
       "      <td>56</td>\n",
       "      <td>0</td>\n",
       "      <td>262</td>\n",
       "      <td>132.0</td>\n",
       "      <td>46</td>\n",
       "      <td>1</td>\n",
       "      <td>0</td>\n",
       "      <td>1</td>\n",
       "      <td>0</td>\n",
       "      <td>0</td>\n",
       "      <td>17.297628</td>\n",
       "      <td>0</td>\n",
       "      <td>1</td>\n",
       "      <td>0</td>\n",
       "      <td>8</td>\n",
       "      <td>0.369552</td>\n",
       "      <td>211755</td>\n",
       "      <td>34.973685</td>\n",
       "      <td>333</td>\n",
       "      <td>7</td>\n",
       "      <td>8</td>\n",
       "      <td>Nigeria</td>\n",
       "      <td>Africa</td>\n",
       "      <td>Northern Hemisphere</td>\n",
       "      <td>1.0</td>\n",
       "    </tr>\n",
       "    <tr>\n",
       "      <th>2</th>\n",
       "      <td>TUI5807</td>\n",
       "      <td>19</td>\n",
       "      <td>0</td>\n",
       "      <td>140</td>\n",
       "      <td>135.0</td>\n",
       "      <td>54</td>\n",
       "      <td>0</td>\n",
       "      <td>1</td>\n",
       "      <td>0</td>\n",
       "      <td>0</td>\n",
       "      <td>1</td>\n",
       "      <td>8.695288</td>\n",
       "      <td>0</td>\n",
       "      <td>1</td>\n",
       "      <td>1</td>\n",
       "      <td>3</td>\n",
       "      <td>8.646334</td>\n",
       "      <td>252203</td>\n",
       "      <td>30.554246</td>\n",
       "      <td>537</td>\n",
       "      <td>2</td>\n",
       "      <td>10</td>\n",
       "      <td>Thailand</td>\n",
       "      <td>Asia</td>\n",
       "      <td>Northern Hemisphere</td>\n",
       "      <td>0.0</td>\n",
       "    </tr>\n",
       "    <tr>\n",
       "      <th>3</th>\n",
       "      <td>YYT5016</td>\n",
       "      <td>50</td>\n",
       "      <td>0</td>\n",
       "      <td>163</td>\n",
       "      <td>91.0</td>\n",
       "      <td>53</td>\n",
       "      <td>0</td>\n",
       "      <td>1</td>\n",
       "      <td>1</td>\n",
       "      <td>1</td>\n",
       "      <td>1</td>\n",
       "      <td>10.161587</td>\n",
       "      <td>1</td>\n",
       "      <td>0</td>\n",
       "      <td>1</td>\n",
       "      <td>7</td>\n",
       "      <td>1.107884</td>\n",
       "      <td>121954</td>\n",
       "      <td>35.390265</td>\n",
       "      <td>591</td>\n",
       "      <td>0</td>\n",
       "      <td>9</td>\n",
       "      <td>Spain</td>\n",
       "      <td>Europe</td>\n",
       "      <td>Southern Hemisphere</td>\n",
       "      <td>1.0</td>\n",
       "    </tr>\n",
       "    <tr>\n",
       "      <th>4</th>\n",
       "      <td>ZAC5937</td>\n",
       "      <td>89</td>\n",
       "      <td>0</td>\n",
       "      <td>144</td>\n",
       "      <td>131.5</td>\n",
       "      <td>92</td>\n",
       "      <td>1</td>\n",
       "      <td>0</td>\n",
       "      <td>1</td>\n",
       "      <td>0</td>\n",
       "      <td>1</td>\n",
       "      <td>16.436787</td>\n",
       "      <td>1</td>\n",
       "      <td>1</td>\n",
       "      <td>0</td>\n",
       "      <td>1</td>\n",
       "      <td>1.337570</td>\n",
       "      <td>180121</td>\n",
       "      <td>39.575483</td>\n",
       "      <td>145</td>\n",
       "      <td>2</td>\n",
       "      <td>5</td>\n",
       "      <td>Germany</td>\n",
       "      <td>Europe</td>\n",
       "      <td>Northern Hemisphere</td>\n",
       "      <td>1.0</td>\n",
       "    </tr>\n",
       "  </tbody>\n",
       "</table>\n",
       "</div>"
      ],
      "text/plain": [
       "  Patient ID  Age  Sex  Cholesterol  Blood Pressure  Heart Rate  Diabetes  \\\n",
       "0    RDG0550   33    1          200           109.5          48         0   \n",
       "1    NMA3851   56    0          262           132.0          46         1   \n",
       "2    TUI5807   19    0          140           135.0          54         0   \n",
       "3    YYT5016   50    0          163            91.0          53         0   \n",
       "4    ZAC5937   89    0          144           131.5          92         1   \n",
       "\n",
       "   Family History  Smoking  Obesity  Alcohol Consumption  \\\n",
       "0               1        1        1                    1   \n",
       "1               0        1        0                    0   \n",
       "2               1        0        0                    1   \n",
       "3               1        1        1                    1   \n",
       "4               0        1        0                    1   \n",
       "\n",
       "   Exercise Hours Per Week  Diet  Previous Heart Problems  Medication Use  \\\n",
       "0                 7.807690     2                        0               1   \n",
       "1                17.297628     0                        1               0   \n",
       "2                 8.695288     0                        1               1   \n",
       "3                10.161587     1                        0               1   \n",
       "4                16.436787     1                        1               0   \n",
       "\n",
       "   Stress Level  Sedentary Hours Per Day  Income        BMI  Triglycerides  \\\n",
       "0             2                 0.138443  184066  30.449815             63   \n",
       "1             8                 0.369552  211755  34.973685            333   \n",
       "2             3                 8.646334  252203  30.554246            537   \n",
       "3             7                 1.107884  121954  35.390265            591   \n",
       "4             1                 1.337570  180121  39.575483            145   \n",
       "\n",
       "   Physical Activity Days Per Week  Sleep Hours Per Day    Country  \\\n",
       "0                                6                    7  Argentina   \n",
       "1                                7                    8    Nigeria   \n",
       "2                                2                   10   Thailand   \n",
       "3                                0                    9      Spain   \n",
       "4                                2                    5    Germany   \n",
       "\n",
       "       Continent           Hemisphere  Heart Attack Risk  \n",
       "0  South America  Southern Hemisphere                1.0  \n",
       "1         Africa  Northern Hemisphere                1.0  \n",
       "2           Asia  Northern Hemisphere                0.0  \n",
       "3         Europe  Southern Hemisphere                1.0  \n",
       "4         Europe  Northern Hemisphere                1.0  "
      ]
     },
     "execution_count": 128,
     "metadata": {},
     "output_type": "execute_result"
    }
   ],
   "source": [
    "df.head()"
   ]
  },
  {
   "cell_type": "code",
   "execution_count": 6,
   "id": "5a9bdbb2",
   "metadata": {
    "scrolled": false
   },
   "outputs": [
    {
     "data": {
      "text/html": [
       "<div>\n",
       "<style scoped>\n",
       "    .dataframe tbody tr th:only-of-type {\n",
       "        vertical-align: middle;\n",
       "    }\n",
       "\n",
       "    .dataframe tbody tr th {\n",
       "        vertical-align: top;\n",
       "    }\n",
       "\n",
       "    .dataframe thead th {\n",
       "        text-align: right;\n",
       "    }\n",
       "</style>\n",
       "<table border=\"1\" class=\"dataframe\">\n",
       "  <thead>\n",
       "    <tr style=\"text-align: right;\">\n",
       "      <th></th>\n",
       "      <th>Age</th>\n",
       "      <th>Cholesterol</th>\n",
       "      <th>Heart Rate</th>\n",
       "      <th>Diabetes</th>\n",
       "      <th>Family History</th>\n",
       "      <th>Smoking</th>\n",
       "      <th>Obesity</th>\n",
       "      <th>Alcohol Consumption</th>\n",
       "      <th>Exercise Hours Per Week</th>\n",
       "      <th>Previous Heart Problems</th>\n",
       "      <th>Medication Use</th>\n",
       "      <th>Stress Level</th>\n",
       "      <th>Sedentary Hours Per Day</th>\n",
       "      <th>Income</th>\n",
       "      <th>BMI</th>\n",
       "      <th>Triglycerides</th>\n",
       "      <th>Physical Activity Days Per Week</th>\n",
       "      <th>Sleep Hours Per Day</th>\n",
       "      <th>Heart Attack Risk</th>\n",
       "    </tr>\n",
       "  </thead>\n",
       "  <tbody>\n",
       "    <tr>\n",
       "      <th>count</th>\n",
       "      <td>8763.000000</td>\n",
       "      <td>8763.000000</td>\n",
       "      <td>8763.000000</td>\n",
       "      <td>8763.000000</td>\n",
       "      <td>8763.000000</td>\n",
       "      <td>8763.000000</td>\n",
       "      <td>8763.000000</td>\n",
       "      <td>8763.000000</td>\n",
       "      <td>8763.000000</td>\n",
       "      <td>8763.000000</td>\n",
       "      <td>8763.000000</td>\n",
       "      <td>8763.000000</td>\n",
       "      <td>8763.000000</td>\n",
       "      <td>8763.000000</td>\n",
       "      <td>8763.000000</td>\n",
       "      <td>8763.000000</td>\n",
       "      <td>8763.000000</td>\n",
       "      <td>8763.000000</td>\n",
       "      <td>7010.000000</td>\n",
       "    </tr>\n",
       "    <tr>\n",
       "      <th>mean</th>\n",
       "      <td>53.707977</td>\n",
       "      <td>259.877211</td>\n",
       "      <td>75.021682</td>\n",
       "      <td>0.652288</td>\n",
       "      <td>0.492982</td>\n",
       "      <td>0.896839</td>\n",
       "      <td>0.501426</td>\n",
       "      <td>0.598083</td>\n",
       "      <td>10.014284</td>\n",
       "      <td>0.495835</td>\n",
       "      <td>0.498345</td>\n",
       "      <td>5.469702</td>\n",
       "      <td>5.993690</td>\n",
       "      <td>158263.181901</td>\n",
       "      <td>28.891446</td>\n",
       "      <td>417.677051</td>\n",
       "      <td>3.489672</td>\n",
       "      <td>7.023508</td>\n",
       "      <td>0.357204</td>\n",
       "    </tr>\n",
       "    <tr>\n",
       "      <th>std</th>\n",
       "      <td>21.249509</td>\n",
       "      <td>80.863276</td>\n",
       "      <td>20.550948</td>\n",
       "      <td>0.476271</td>\n",
       "      <td>0.499979</td>\n",
       "      <td>0.304186</td>\n",
       "      <td>0.500026</td>\n",
       "      <td>0.490313</td>\n",
       "      <td>5.783745</td>\n",
       "      <td>0.500011</td>\n",
       "      <td>0.500026</td>\n",
       "      <td>2.859622</td>\n",
       "      <td>3.466359</td>\n",
       "      <td>80575.190806</td>\n",
       "      <td>6.319181</td>\n",
       "      <td>223.748137</td>\n",
       "      <td>2.282687</td>\n",
       "      <td>1.988473</td>\n",
       "      <td>0.479210</td>\n",
       "    </tr>\n",
       "    <tr>\n",
       "      <th>min</th>\n",
       "      <td>18.000000</td>\n",
       "      <td>120.000000</td>\n",
       "      <td>40.000000</td>\n",
       "      <td>0.000000</td>\n",
       "      <td>0.000000</td>\n",
       "      <td>0.000000</td>\n",
       "      <td>0.000000</td>\n",
       "      <td>0.000000</td>\n",
       "      <td>0.002442</td>\n",
       "      <td>0.000000</td>\n",
       "      <td>0.000000</td>\n",
       "      <td>1.000000</td>\n",
       "      <td>0.001263</td>\n",
       "      <td>20062.000000</td>\n",
       "      <td>18.002337</td>\n",
       "      <td>30.000000</td>\n",
       "      <td>0.000000</td>\n",
       "      <td>4.000000</td>\n",
       "      <td>0.000000</td>\n",
       "    </tr>\n",
       "    <tr>\n",
       "      <th>25%</th>\n",
       "      <td>35.000000</td>\n",
       "      <td>192.000000</td>\n",
       "      <td>57.000000</td>\n",
       "      <td>0.000000</td>\n",
       "      <td>0.000000</td>\n",
       "      <td>1.000000</td>\n",
       "      <td>0.000000</td>\n",
       "      <td>0.000000</td>\n",
       "      <td>4.981579</td>\n",
       "      <td>0.000000</td>\n",
       "      <td>0.000000</td>\n",
       "      <td>3.000000</td>\n",
       "      <td>2.998794</td>\n",
       "      <td>88310.000000</td>\n",
       "      <td>23.422985</td>\n",
       "      <td>225.500000</td>\n",
       "      <td>2.000000</td>\n",
       "      <td>5.000000</td>\n",
       "      <td>0.000000</td>\n",
       "    </tr>\n",
       "    <tr>\n",
       "      <th>50%</th>\n",
       "      <td>54.000000</td>\n",
       "      <td>259.000000</td>\n",
       "      <td>75.000000</td>\n",
       "      <td>1.000000</td>\n",
       "      <td>0.000000</td>\n",
       "      <td>1.000000</td>\n",
       "      <td>1.000000</td>\n",
       "      <td>1.000000</td>\n",
       "      <td>10.069559</td>\n",
       "      <td>0.000000</td>\n",
       "      <td>0.000000</td>\n",
       "      <td>5.000000</td>\n",
       "      <td>5.933622</td>\n",
       "      <td>157866.000000</td>\n",
       "      <td>28.768999</td>\n",
       "      <td>417.000000</td>\n",
       "      <td>3.000000</td>\n",
       "      <td>7.000000</td>\n",
       "      <td>0.000000</td>\n",
       "    </tr>\n",
       "    <tr>\n",
       "      <th>75%</th>\n",
       "      <td>72.000000</td>\n",
       "      <td>330.000000</td>\n",
       "      <td>93.000000</td>\n",
       "      <td>1.000000</td>\n",
       "      <td>1.000000</td>\n",
       "      <td>1.000000</td>\n",
       "      <td>1.000000</td>\n",
       "      <td>1.000000</td>\n",
       "      <td>15.050018</td>\n",
       "      <td>1.000000</td>\n",
       "      <td>1.000000</td>\n",
       "      <td>8.000000</td>\n",
       "      <td>9.019124</td>\n",
       "      <td>227749.000000</td>\n",
       "      <td>34.324594</td>\n",
       "      <td>612.000000</td>\n",
       "      <td>5.000000</td>\n",
       "      <td>9.000000</td>\n",
       "      <td>1.000000</td>\n",
       "    </tr>\n",
       "    <tr>\n",
       "      <th>max</th>\n",
       "      <td>90.000000</td>\n",
       "      <td>400.000000</td>\n",
       "      <td>110.000000</td>\n",
       "      <td>1.000000</td>\n",
       "      <td>1.000000</td>\n",
       "      <td>1.000000</td>\n",
       "      <td>1.000000</td>\n",
       "      <td>1.000000</td>\n",
       "      <td>19.998709</td>\n",
       "      <td>1.000000</td>\n",
       "      <td>1.000000</td>\n",
       "      <td>10.000000</td>\n",
       "      <td>11.999313</td>\n",
       "      <td>299954.000000</td>\n",
       "      <td>39.997211</td>\n",
       "      <td>800.000000</td>\n",
       "      <td>7.000000</td>\n",
       "      <td>10.000000</td>\n",
       "      <td>1.000000</td>\n",
       "    </tr>\n",
       "  </tbody>\n",
       "</table>\n",
       "</div>"
      ],
      "text/plain": [
       "               Age  Cholesterol   Heart Rate     Diabetes  Family History  \\\n",
       "count  8763.000000  8763.000000  8763.000000  8763.000000     8763.000000   \n",
       "mean     53.707977   259.877211    75.021682     0.652288        0.492982   \n",
       "std      21.249509    80.863276    20.550948     0.476271        0.499979   \n",
       "min      18.000000   120.000000    40.000000     0.000000        0.000000   \n",
       "25%      35.000000   192.000000    57.000000     0.000000        0.000000   \n",
       "50%      54.000000   259.000000    75.000000     1.000000        0.000000   \n",
       "75%      72.000000   330.000000    93.000000     1.000000        1.000000   \n",
       "max      90.000000   400.000000   110.000000     1.000000        1.000000   \n",
       "\n",
       "           Smoking      Obesity  Alcohol Consumption  Exercise Hours Per Week  \\\n",
       "count  8763.000000  8763.000000          8763.000000              8763.000000   \n",
       "mean      0.896839     0.501426             0.598083                10.014284   \n",
       "std       0.304186     0.500026             0.490313                 5.783745   \n",
       "min       0.000000     0.000000             0.000000                 0.002442   \n",
       "25%       1.000000     0.000000             0.000000                 4.981579   \n",
       "50%       1.000000     1.000000             1.000000                10.069559   \n",
       "75%       1.000000     1.000000             1.000000                15.050018   \n",
       "max       1.000000     1.000000             1.000000                19.998709   \n",
       "\n",
       "       Previous Heart Problems  Medication Use  Stress Level  \\\n",
       "count              8763.000000     8763.000000   8763.000000   \n",
       "mean                  0.495835        0.498345      5.469702   \n",
       "std                   0.500011        0.500026      2.859622   \n",
       "min                   0.000000        0.000000      1.000000   \n",
       "25%                   0.000000        0.000000      3.000000   \n",
       "50%                   0.000000        0.000000      5.000000   \n",
       "75%                   1.000000        1.000000      8.000000   \n",
       "max                   1.000000        1.000000     10.000000   \n",
       "\n",
       "       Sedentary Hours Per Day         Income          BMI  Triglycerides  \\\n",
       "count              8763.000000    8763.000000  8763.000000    8763.000000   \n",
       "mean                  5.993690  158263.181901    28.891446     417.677051   \n",
       "std                   3.466359   80575.190806     6.319181     223.748137   \n",
       "min                   0.001263   20062.000000    18.002337      30.000000   \n",
       "25%                   2.998794   88310.000000    23.422985     225.500000   \n",
       "50%                   5.933622  157866.000000    28.768999     417.000000   \n",
       "75%                   9.019124  227749.000000    34.324594     612.000000   \n",
       "max                  11.999313  299954.000000    39.997211     800.000000   \n",
       "\n",
       "       Physical Activity Days Per Week  Sleep Hours Per Day  Heart Attack Risk  \n",
       "count                      8763.000000          8763.000000        7010.000000  \n",
       "mean                          3.489672             7.023508           0.357204  \n",
       "std                           2.282687             1.988473           0.479210  \n",
       "min                           0.000000             4.000000           0.000000  \n",
       "25%                           2.000000             5.000000           0.000000  \n",
       "50%                           3.000000             7.000000           0.000000  \n",
       "75%                           5.000000             9.000000           1.000000  \n",
       "max                           7.000000            10.000000           1.000000  "
      ]
     },
     "execution_count": 6,
     "metadata": {},
     "output_type": "execute_result"
    }
   ],
   "source": [
    "df.describe()"
   ]
  },
  {
   "cell_type": "markdown",
   "id": "144c5c3b",
   "metadata": {},
   "source": [
    "# Data Cleaning"
   ]
  },
  {
   "cell_type": "code",
   "execution_count": 80,
   "id": "9a24134f",
   "metadata": {
    "scrolled": false
   },
   "outputs": [
    {
     "data": {
      "text/plain": [
       "Patient ID                            0\n",
       "Age                                   0\n",
       "Sex                                   0\n",
       "Cholesterol                           0\n",
       "Blood Pressure                        0\n",
       "Heart Rate                            0\n",
       "Diabetes                              0\n",
       "Family History                        0\n",
       "Smoking                               0\n",
       "Obesity                               0\n",
       "Alcohol Consumption                   0\n",
       "Exercise Hours Per Week               0\n",
       "Diet                                  0\n",
       "Previous Heart Problems               0\n",
       "Medication Use                        0\n",
       "Stress Level                          0\n",
       "Sedentary Hours Per Day               0\n",
       "Income                                0\n",
       "BMI                                   0\n",
       "Triglycerides                         0\n",
       "Physical Activity Days Per Week       0\n",
       "Sleep Hours Per Day                   0\n",
       "Country                               0\n",
       "Continent                             0\n",
       "Hemisphere                            0\n",
       "Heart Attack Risk                  1753\n",
       "dtype: int64"
      ]
     },
     "execution_count": 80,
     "metadata": {},
     "output_type": "execute_result"
    }
   ],
   "source": [
    "df.isna().sum()"
   ]
  },
  {
   "cell_type": "code",
   "execution_count": 81,
   "id": "9fad40e9",
   "metadata": {},
   "outputs": [],
   "source": [
    "df=df.fillna(0)"
   ]
  },
  {
   "cell_type": "code",
   "execution_count": 82,
   "id": "0ccb8a2c",
   "metadata": {},
   "outputs": [
    {
     "data": {
      "text/plain": [
       "Patient ID                         0\n",
       "Age                                0\n",
       "Sex                                0\n",
       "Cholesterol                        0\n",
       "Blood Pressure                     0\n",
       "Heart Rate                         0\n",
       "Diabetes                           0\n",
       "Family History                     0\n",
       "Smoking                            0\n",
       "Obesity                            0\n",
       "Alcohol Consumption                0\n",
       "Exercise Hours Per Week            0\n",
       "Diet                               0\n",
       "Previous Heart Problems            0\n",
       "Medication Use                     0\n",
       "Stress Level                       0\n",
       "Sedentary Hours Per Day            0\n",
       "Income                             0\n",
       "BMI                                0\n",
       "Triglycerides                      0\n",
       "Physical Activity Days Per Week    0\n",
       "Sleep Hours Per Day                0\n",
       "Country                            0\n",
       "Continent                          0\n",
       "Hemisphere                         0\n",
       "Heart Attack Risk                  0\n",
       "dtype: int64"
      ]
     },
     "execution_count": 82,
     "metadata": {},
     "output_type": "execute_result"
    }
   ],
   "source": [
    "df.isna().sum()"
   ]
  },
  {
   "cell_type": "code",
   "execution_count": 56,
   "id": "5b41c397",
   "metadata": {
    "scrolled": true
   },
   "outputs": [
    {
     "data": {
      "text/plain": [
       "Patient ID                          object\n",
       "Age                                  int64\n",
       "Sex                                 object\n",
       "Cholesterol                          int64\n",
       "Blood Pressure                      object\n",
       "Heart Rate                           int64\n",
       "Diabetes                             int64\n",
       "Family History                       int64\n",
       "Smoking                              int64\n",
       "Obesity                              int64\n",
       "Alcohol Consumption                  int64\n",
       "Exercise Hours Per Week            float64\n",
       "Diet                                object\n",
       "Previous Heart Problems              int64\n",
       "Medication Use                       int64\n",
       "Stress Level                         int64\n",
       "Sedentary Hours Per Day            float64\n",
       "Income                               int64\n",
       "BMI                                float64\n",
       "Triglycerides                        int64\n",
       "Physical Activity Days Per Week      int64\n",
       "Sleep Hours Per Day                  int64\n",
       "Country                             object\n",
       "Continent                           object\n",
       "Hemisphere                          object\n",
       "Heart Attack Risk                    int64\n",
       "dtype: object"
      ]
     },
     "execution_count": 56,
     "metadata": {},
     "output_type": "execute_result"
    }
   ],
   "source": [
    "df.dtypes"
   ]
  },
  {
   "cell_type": "code",
   "execution_count": 83,
   "id": "b8b7016c",
   "metadata": {
    "scrolled": true
   },
   "outputs": [
    {
     "name": "stdout",
     "output_type": "stream",
     "text": [
      "<class 'pandas.core.frame.DataFrame'>\n",
      "RangeIndex: 8763 entries, 0 to 8762\n",
      "Data columns (total 26 columns):\n",
      " #   Column                           Non-Null Count  Dtype  \n",
      "---  ------                           --------------  -----  \n",
      " 0   Patient ID                       8763 non-null   object \n",
      " 1   Age                              8763 non-null   int64  \n",
      " 2   Sex                              8763 non-null   object \n",
      " 3   Cholesterol                      8763 non-null   int64  \n",
      " 4   Blood Pressure                   8763 non-null   object \n",
      " 5   Heart Rate                       8763 non-null   int64  \n",
      " 6   Diabetes                         8763 non-null   int64  \n",
      " 7   Family History                   8763 non-null   int64  \n",
      " 8   Smoking                          8763 non-null   int64  \n",
      " 9   Obesity                          8763 non-null   int64  \n",
      " 10  Alcohol Consumption              8763 non-null   int64  \n",
      " 11  Exercise Hours Per Week          8763 non-null   float64\n",
      " 12  Diet                             8763 non-null   object \n",
      " 13  Previous Heart Problems          8763 non-null   int64  \n",
      " 14  Medication Use                   8763 non-null   int64  \n",
      " 15  Stress Level                     8763 non-null   int64  \n",
      " 16  Sedentary Hours Per Day          8763 non-null   float64\n",
      " 17  Income                           8763 non-null   int64  \n",
      " 18  BMI                              8763 non-null   float64\n",
      " 19  Triglycerides                    8763 non-null   int64  \n",
      " 20  Physical Activity Days Per Week  8763 non-null   int64  \n",
      " 21  Sleep Hours Per Day              8763 non-null   int64  \n",
      " 22  Country                          8763 non-null   object \n",
      " 23  Continent                        8763 non-null   object \n",
      " 24  Hemisphere                       8763 non-null   object \n",
      " 25  Heart Attack Risk                8763 non-null   float64\n",
      "dtypes: float64(4), int64(15), object(7)\n",
      "memory usage: 1.7+ MB\n"
     ]
    }
   ],
   "source": [
    "df.info()"
   ]
  },
  {
   "cell_type": "markdown",
   "id": "890cdb85",
   "metadata": {},
   "source": [
    "# Data Transformation"
   ]
  },
  {
   "cell_type": "code",
   "execution_count": 84,
   "id": "8ea52f5f",
   "metadata": {},
   "outputs": [],
   "source": [
    "from sklearn.preprocessing import LabelEncoder,StandardScaler\n",
    "le = LabelEncoder()\n",
    "sc= StandardScaler()"
   ]
  },
  {
   "cell_type": "code",
   "execution_count": 85,
   "id": "8a14094d",
   "metadata": {},
   "outputs": [],
   "source": [
    "df[\"Diet\"] = le.fit_transform(df[\"Diet\"])\n",
    "df[\"Sex\"] = le.fit_transform(df[\"Sex\"])"
   ]
  },
  {
   "cell_type": "code",
   "execution_count": 86,
   "id": "8c336c9b",
   "metadata": {},
   "outputs": [],
   "source": [
    "# Split the values by '/' and calculate the average(adding both values and extracting avg)\n",
    "df[\"Blood Pressure\"] = df[\"Blood Pressure\"].str.split('/').apply(lambda df: (float(df[0]) + float(df[1])) / 2)\n",
    "\n"
   ]
  },
  {
   "cell_type": "code",
   "execution_count": 87,
   "id": "3e4a9a47",
   "metadata": {
    "scrolled": true
   },
   "outputs": [
    {
     "data": {
      "text/plain": [
       "0"
      ]
     },
     "execution_count": 87,
     "metadata": {},
     "output_type": "execute_result"
    }
   ],
   "source": [
    "df.duplicated().sum()"
   ]
  },
  {
   "cell_type": "markdown",
   "id": "7fb518d8",
   "metadata": {},
   "source": [
    "# Dropping Unnecessary columns"
   ]
  },
  {
   "cell_type": "code",
   "execution_count": 88,
   "id": "b3fea931",
   "metadata": {},
   "outputs": [],
   "source": [
    "x = df.drop(['Patient ID', 'Income', 'Country', 'Continent', 'Hemisphere','Heart Attack Risk'], axis=1)\n",
    "y = df['Heart Attack Risk']"
   ]
  },
  {
   "cell_type": "code",
   "execution_count": 64,
   "id": "fdc36efe",
   "metadata": {},
   "outputs": [
    {
     "data": {
      "text/plain": [
       "(7010, 20)"
      ]
     },
     "execution_count": 64,
     "metadata": {},
     "output_type": "execute_result"
    }
   ],
   "source": [
    "x.shape"
   ]
  },
  {
   "cell_type": "code",
   "execution_count": 65,
   "id": "6b57ca62",
   "metadata": {},
   "outputs": [
    {
     "data": {
      "text/plain": [
       "(7010,)"
      ]
     },
     "execution_count": 65,
     "metadata": {},
     "output_type": "execute_result"
    }
   ],
   "source": [
    "y.shape"
   ]
  },
  {
   "cell_type": "code",
   "execution_count": 89,
   "id": "d6eb05f7",
   "metadata": {
    "scrolled": true
   },
   "outputs": [
    {
     "name": "stdout",
     "output_type": "stream",
     "text": [
      "<class 'pandas.core.frame.DataFrame'>\n",
      "RangeIndex: 8763 entries, 0 to 8762\n",
      "Data columns (total 20 columns):\n",
      " #   Column                           Non-Null Count  Dtype  \n",
      "---  ------                           --------------  -----  \n",
      " 0   Age                              8763 non-null   int64  \n",
      " 1   Sex                              8763 non-null   int32  \n",
      " 2   Cholesterol                      8763 non-null   int64  \n",
      " 3   Blood Pressure                   8763 non-null   float64\n",
      " 4   Heart Rate                       8763 non-null   int64  \n",
      " 5   Diabetes                         8763 non-null   int64  \n",
      " 6   Family History                   8763 non-null   int64  \n",
      " 7   Smoking                          8763 non-null   int64  \n",
      " 8   Obesity                          8763 non-null   int64  \n",
      " 9   Alcohol Consumption              8763 non-null   int64  \n",
      " 10  Exercise Hours Per Week          8763 non-null   float64\n",
      " 11  Diet                             8763 non-null   int32  \n",
      " 12  Previous Heart Problems          8763 non-null   int64  \n",
      " 13  Medication Use                   8763 non-null   int64  \n",
      " 14  Stress Level                     8763 non-null   int64  \n",
      " 15  Sedentary Hours Per Day          8763 non-null   float64\n",
      " 16  BMI                              8763 non-null   float64\n",
      " 17  Triglycerides                    8763 non-null   int64  \n",
      " 18  Physical Activity Days Per Week  8763 non-null   int64  \n",
      " 19  Sleep Hours Per Day              8763 non-null   int64  \n",
      "dtypes: float64(4), int32(2), int64(14)\n",
      "memory usage: 1.3 MB\n"
     ]
    }
   ],
   "source": [
    "x.info()"
   ]
  },
  {
   "cell_type": "markdown",
   "id": "0e57ad97",
   "metadata": {},
   "source": [
    "# Data Spliting"
   ]
  },
  {
   "cell_type": "code",
   "execution_count": 90,
   "id": "a8e99b8d",
   "metadata": {},
   "outputs": [],
   "source": [
    "from sklearn.model_selection import train_test_split\n",
    "from sklearn.metrics import accuracy_score"
   ]
  },
  {
   "cell_type": "code",
   "execution_count": 92,
   "id": "de343553",
   "metadata": {},
   "outputs": [],
   "source": [
    "x_train, x_test, y_train, y_test = train_test_split(x, y, test_size =0.2, random_state = 42)"
   ]
  },
  {
   "cell_type": "code",
   "execution_count": null,
   "id": "97eab4a2",
   "metadata": {},
   "outputs": [],
   "source": []
  },
  {
   "cell_type": "code",
   "execution_count": 93,
   "id": "bdcd4c9e",
   "metadata": {},
   "outputs": [],
   "source": [
    "from sklearn.metrics import classification_report,confusion_matrix,accuracy_score"
   ]
  },
  {
   "cell_type": "code",
   "execution_count": 94,
   "id": "9500f813",
   "metadata": {},
   "outputs": [
    {
     "data": {
      "text/html": [
       "<div>\n",
       "<style scoped>\n",
       "    .dataframe tbody tr th:only-of-type {\n",
       "        vertical-align: middle;\n",
       "    }\n",
       "\n",
       "    .dataframe tbody tr th {\n",
       "        vertical-align: top;\n",
       "    }\n",
       "\n",
       "    .dataframe thead th {\n",
       "        text-align: right;\n",
       "    }\n",
       "</style>\n",
       "<table border=\"1\" class=\"dataframe\">\n",
       "  <thead>\n",
       "    <tr style=\"text-align: right;\">\n",
       "      <th></th>\n",
       "      <th>Age</th>\n",
       "      <th>Sex</th>\n",
       "      <th>Cholesterol</th>\n",
       "      <th>Blood Pressure</th>\n",
       "      <th>Heart Rate</th>\n",
       "      <th>Diabetes</th>\n",
       "      <th>Family History</th>\n",
       "      <th>Smoking</th>\n",
       "      <th>Obesity</th>\n",
       "      <th>Alcohol Consumption</th>\n",
       "      <th>Exercise Hours Per Week</th>\n",
       "      <th>Diet</th>\n",
       "      <th>Previous Heart Problems</th>\n",
       "      <th>Medication Use</th>\n",
       "      <th>Stress Level</th>\n",
       "      <th>Sedentary Hours Per Day</th>\n",
       "      <th>BMI</th>\n",
       "      <th>Triglycerides</th>\n",
       "      <th>Physical Activity Days Per Week</th>\n",
       "      <th>Sleep Hours Per Day</th>\n",
       "    </tr>\n",
       "  </thead>\n",
       "  <tbody>\n",
       "    <tr>\n",
       "      <th>1226</th>\n",
       "      <td>35</td>\n",
       "      <td>1</td>\n",
       "      <td>222</td>\n",
       "      <td>93.5</td>\n",
       "      <td>67</td>\n",
       "      <td>1</td>\n",
       "      <td>1</td>\n",
       "      <td>1</td>\n",
       "      <td>1</td>\n",
       "      <td>1</td>\n",
       "      <td>1.635628</td>\n",
       "      <td>0</td>\n",
       "      <td>1</td>\n",
       "      <td>0</td>\n",
       "      <td>10</td>\n",
       "      <td>11.764951</td>\n",
       "      <td>37.875326</td>\n",
       "      <td>352</td>\n",
       "      <td>6</td>\n",
       "      <td>5</td>\n",
       "    </tr>\n",
       "    <tr>\n",
       "      <th>7903</th>\n",
       "      <td>20</td>\n",
       "      <td>1</td>\n",
       "      <td>170</td>\n",
       "      <td>110.0</td>\n",
       "      <td>64</td>\n",
       "      <td>1</td>\n",
       "      <td>1</td>\n",
       "      <td>1</td>\n",
       "      <td>1</td>\n",
       "      <td>0</td>\n",
       "      <td>3.222368</td>\n",
       "      <td>2</td>\n",
       "      <td>0</td>\n",
       "      <td>0</td>\n",
       "      <td>2</td>\n",
       "      <td>2.970027</td>\n",
       "      <td>29.004499</td>\n",
       "      <td>797</td>\n",
       "      <td>7</td>\n",
       "      <td>10</td>\n",
       "    </tr>\n",
       "    <tr>\n",
       "      <th>1559</th>\n",
       "      <td>77</td>\n",
       "      <td>1</td>\n",
       "      <td>140</td>\n",
       "      <td>115.5</td>\n",
       "      <td>90</td>\n",
       "      <td>1</td>\n",
       "      <td>0</td>\n",
       "      <td>1</td>\n",
       "      <td>0</td>\n",
       "      <td>1</td>\n",
       "      <td>19.108373</td>\n",
       "      <td>0</td>\n",
       "      <td>1</td>\n",
       "      <td>1</td>\n",
       "      <td>6</td>\n",
       "      <td>5.634762</td>\n",
       "      <td>23.117767</td>\n",
       "      <td>247</td>\n",
       "      <td>1</td>\n",
       "      <td>10</td>\n",
       "    </tr>\n",
       "    <tr>\n",
       "      <th>3621</th>\n",
       "      <td>61</td>\n",
       "      <td>0</td>\n",
       "      <td>227</td>\n",
       "      <td>104.0</td>\n",
       "      <td>91</td>\n",
       "      <td>1</td>\n",
       "      <td>1</td>\n",
       "      <td>1</td>\n",
       "      <td>0</td>\n",
       "      <td>1</td>\n",
       "      <td>19.723129</td>\n",
       "      <td>2</td>\n",
       "      <td>1</td>\n",
       "      <td>1</td>\n",
       "      <td>9</td>\n",
       "      <td>1.371171</td>\n",
       "      <td>23.016485</td>\n",
       "      <td>775</td>\n",
       "      <td>0</td>\n",
       "      <td>6</td>\n",
       "    </tr>\n",
       "    <tr>\n",
       "      <th>7552</th>\n",
       "      <td>49</td>\n",
       "      <td>1</td>\n",
       "      <td>144</td>\n",
       "      <td>95.5</td>\n",
       "      <td>95</td>\n",
       "      <td>1</td>\n",
       "      <td>1</td>\n",
       "      <td>1</td>\n",
       "      <td>0</td>\n",
       "      <td>1</td>\n",
       "      <td>15.577318</td>\n",
       "      <td>2</td>\n",
       "      <td>0</td>\n",
       "      <td>1</td>\n",
       "      <td>3</td>\n",
       "      <td>7.801029</td>\n",
       "      <td>36.509162</td>\n",
       "      <td>564</td>\n",
       "      <td>6</td>\n",
       "      <td>8</td>\n",
       "    </tr>\n",
       "  </tbody>\n",
       "</table>\n",
       "</div>"
      ],
      "text/plain": [
       "      Age  Sex  Cholesterol  Blood Pressure  Heart Rate  Diabetes  \\\n",
       "1226   35    1          222            93.5          67         1   \n",
       "7903   20    1          170           110.0          64         1   \n",
       "1559   77    1          140           115.5          90         1   \n",
       "3621   61    0          227           104.0          91         1   \n",
       "7552   49    1          144            95.5          95         1   \n",
       "\n",
       "      Family History  Smoking  Obesity  Alcohol Consumption  \\\n",
       "1226               1        1        1                    1   \n",
       "7903               1        1        1                    0   \n",
       "1559               0        1        0                    1   \n",
       "3621               1        1        0                    1   \n",
       "7552               1        1        0                    1   \n",
       "\n",
       "      Exercise Hours Per Week  Diet  Previous Heart Problems  Medication Use  \\\n",
       "1226                 1.635628     0                        1               0   \n",
       "7903                 3.222368     2                        0               0   \n",
       "1559                19.108373     0                        1               1   \n",
       "3621                19.723129     2                        1               1   \n",
       "7552                15.577318     2                        0               1   \n",
       "\n",
       "      Stress Level  Sedentary Hours Per Day        BMI  Triglycerides  \\\n",
       "1226            10                11.764951  37.875326            352   \n",
       "7903             2                 2.970027  29.004499            797   \n",
       "1559             6                 5.634762  23.117767            247   \n",
       "3621             9                 1.371171  23.016485            775   \n",
       "7552             3                 7.801029  36.509162            564   \n",
       "\n",
       "      Physical Activity Days Per Week  Sleep Hours Per Day  \n",
       "1226                                6                    5  \n",
       "7903                                7                   10  \n",
       "1559                                1                   10  \n",
       "3621                                0                    6  \n",
       "7552                                6                    8  "
      ]
     },
     "execution_count": 94,
     "metadata": {},
     "output_type": "execute_result"
    }
   ],
   "source": [
    "x_test.head()"
   ]
  },
  {
   "cell_type": "code",
   "execution_count": 28,
   "id": "ed4fa61b",
   "metadata": {},
   "outputs": [
    {
     "data": {
      "text/html": [
       "<div>\n",
       "<style scoped>\n",
       "    .dataframe tbody tr th:only-of-type {\n",
       "        vertical-align: middle;\n",
       "    }\n",
       "\n",
       "    .dataframe tbody tr th {\n",
       "        vertical-align: top;\n",
       "    }\n",
       "\n",
       "    .dataframe thead th {\n",
       "        text-align: right;\n",
       "    }\n",
       "</style>\n",
       "<table border=\"1\" class=\"dataframe\">\n",
       "  <thead>\n",
       "    <tr style=\"text-align: right;\">\n",
       "      <th></th>\n",
       "      <th>Age</th>\n",
       "      <th>Sex</th>\n",
       "      <th>Cholesterol</th>\n",
       "      <th>Blood Pressure</th>\n",
       "      <th>Heart Rate</th>\n",
       "      <th>Diabetes</th>\n",
       "      <th>Family History</th>\n",
       "      <th>Smoking</th>\n",
       "      <th>Obesity</th>\n",
       "      <th>Alcohol Consumption</th>\n",
       "      <th>Exercise Hours Per Week</th>\n",
       "      <th>Diet</th>\n",
       "      <th>Previous Heart Problems</th>\n",
       "      <th>Medication Use</th>\n",
       "      <th>Stress Level</th>\n",
       "      <th>Sedentary Hours Per Day</th>\n",
       "      <th>BMI</th>\n",
       "      <th>Triglycerides</th>\n",
       "      <th>Physical Activity Days Per Week</th>\n",
       "      <th>Sleep Hours Per Day</th>\n",
       "    </tr>\n",
       "  </thead>\n",
       "  <tbody>\n",
       "    <tr>\n",
       "      <th>1630</th>\n",
       "      <td>64</td>\n",
       "      <td>1</td>\n",
       "      <td>288</td>\n",
       "      <td>137.5</td>\n",
       "      <td>103</td>\n",
       "      <td>1</td>\n",
       "      <td>1</td>\n",
       "      <td>1</td>\n",
       "      <td>1</td>\n",
       "      <td>1</td>\n",
       "      <td>6.827872</td>\n",
       "      <td>0</td>\n",
       "      <td>1</td>\n",
       "      <td>1</td>\n",
       "      <td>9</td>\n",
       "      <td>7.209615</td>\n",
       "      <td>32.758156</td>\n",
       "      <td>563</td>\n",
       "      <td>6</td>\n",
       "      <td>5</td>\n",
       "    </tr>\n",
       "    <tr>\n",
       "      <th>4063</th>\n",
       "      <td>83</td>\n",
       "      <td>1</td>\n",
       "      <td>145</td>\n",
       "      <td>116.5</td>\n",
       "      <td>42</td>\n",
       "      <td>1</td>\n",
       "      <td>1</td>\n",
       "      <td>1</td>\n",
       "      <td>1</td>\n",
       "      <td>0</td>\n",
       "      <td>8.224914</td>\n",
       "      <td>0</td>\n",
       "      <td>1</td>\n",
       "      <td>1</td>\n",
       "      <td>10</td>\n",
       "      <td>9.672193</td>\n",
       "      <td>34.551615</td>\n",
       "      <td>281</td>\n",
       "      <td>3</td>\n",
       "      <td>4</td>\n",
       "    </tr>\n",
       "    <tr>\n",
       "      <th>1881</th>\n",
       "      <td>90</td>\n",
       "      <td>1</td>\n",
       "      <td>163</td>\n",
       "      <td>105.0</td>\n",
       "      <td>95</td>\n",
       "      <td>0</td>\n",
       "      <td>1</td>\n",
       "      <td>1</td>\n",
       "      <td>1</td>\n",
       "      <td>1</td>\n",
       "      <td>18.506692</td>\n",
       "      <td>0</td>\n",
       "      <td>1</td>\n",
       "      <td>0</td>\n",
       "      <td>7</td>\n",
       "      <td>8.716959</td>\n",
       "      <td>28.899990</td>\n",
       "      <td>687</td>\n",
       "      <td>4</td>\n",
       "      <td>4</td>\n",
       "    </tr>\n",
       "    <tr>\n",
       "      <th>4689</th>\n",
       "      <td>21</td>\n",
       "      <td>0</td>\n",
       "      <td>123</td>\n",
       "      <td>115.5</td>\n",
       "      <td>57</td>\n",
       "      <td>1</td>\n",
       "      <td>0</td>\n",
       "      <td>0</td>\n",
       "      <td>1</td>\n",
       "      <td>1</td>\n",
       "      <td>7.914100</td>\n",
       "      <td>0</td>\n",
       "      <td>0</td>\n",
       "      <td>0</td>\n",
       "      <td>4</td>\n",
       "      <td>8.104431</td>\n",
       "      <td>26.109397</td>\n",
       "      <td>184</td>\n",
       "      <td>4</td>\n",
       "      <td>6</td>\n",
       "    </tr>\n",
       "    <tr>\n",
       "      <th>1612</th>\n",
       "      <td>36</td>\n",
       "      <td>1</td>\n",
       "      <td>338</td>\n",
       "      <td>127.5</td>\n",
       "      <td>48</td>\n",
       "      <td>0</td>\n",
       "      <td>0</td>\n",
       "      <td>1</td>\n",
       "      <td>1</td>\n",
       "      <td>0</td>\n",
       "      <td>10.525857</td>\n",
       "      <td>1</td>\n",
       "      <td>1</td>\n",
       "      <td>0</td>\n",
       "      <td>7</td>\n",
       "      <td>6.148211</td>\n",
       "      <td>36.533115</td>\n",
       "      <td>135</td>\n",
       "      <td>6</td>\n",
       "      <td>8</td>\n",
       "    </tr>\n",
       "  </tbody>\n",
       "</table>\n",
       "</div>"
      ],
      "text/plain": [
       "      Age  Sex  Cholesterol  Blood Pressure  Heart Rate  Diabetes  \\\n",
       "1630   64    1          288           137.5         103         1   \n",
       "4063   83    1          145           116.5          42         1   \n",
       "1881   90    1          163           105.0          95         0   \n",
       "4689   21    0          123           115.5          57         1   \n",
       "1612   36    1          338           127.5          48         0   \n",
       "\n",
       "      Family History  Smoking  Obesity  Alcohol Consumption  \\\n",
       "1630               1        1        1                    1   \n",
       "4063               1        1        1                    0   \n",
       "1881               1        1        1                    1   \n",
       "4689               0        0        1                    1   \n",
       "1612               0        1        1                    0   \n",
       "\n",
       "      Exercise Hours Per Week  Diet  Previous Heart Problems  Medication Use  \\\n",
       "1630                 6.827872     0                        1               1   \n",
       "4063                 8.224914     0                        1               1   \n",
       "1881                18.506692     0                        1               0   \n",
       "4689                 7.914100     0                        0               0   \n",
       "1612                10.525857     1                        1               0   \n",
       "\n",
       "      Stress Level  Sedentary Hours Per Day        BMI  Triglycerides  \\\n",
       "1630             9                 7.209615  32.758156            563   \n",
       "4063            10                 9.672193  34.551615            281   \n",
       "1881             7                 8.716959  28.899990            687   \n",
       "4689             4                 8.104431  26.109397            184   \n",
       "1612             7                 6.148211  36.533115            135   \n",
       "\n",
       "      Physical Activity Days Per Week  Sleep Hours Per Day  \n",
       "1630                                6                    5  \n",
       "4063                                3                    4  \n",
       "1881                                4                    4  \n",
       "4689                                4                    6  \n",
       "1612                                6                    8  "
      ]
     },
     "execution_count": 28,
     "metadata": {},
     "output_type": "execute_result"
    }
   ],
   "source": [
    "x_train.head()"
   ]
  },
  {
   "cell_type": "code",
   "execution_count": 29,
   "id": "5f7e2594",
   "metadata": {
    "scrolled": false
   },
   "outputs": [
    {
     "data": {
      "text/plain": [
       "1630    0.0\n",
       "4063    0.0\n",
       "1881    1.0\n",
       "4689    1.0\n",
       "1612    1.0\n",
       "Name: Heart Attack Risk, dtype: float64"
      ]
     },
     "execution_count": 29,
     "metadata": {},
     "output_type": "execute_result"
    }
   ],
   "source": [
    "y_train.head()"
   ]
  },
  {
   "cell_type": "code",
   "execution_count": 123,
   "id": "62b42b09",
   "metadata": {
    "scrolled": false
   },
   "outputs": [
    {
     "data": {
      "text/plain": [
       "Age                                  int64\n",
       "Sex                                  int32\n",
       "Cholesterol                          int64\n",
       "Blood Pressure                     float64\n",
       "Heart Rate                           int64\n",
       "Diabetes                             int64\n",
       "Family History                       int64\n",
       "Smoking                              int64\n",
       "Obesity                              int64\n",
       "Alcohol Consumption                  int64\n",
       "Exercise Hours Per Week            float64\n",
       "Diet                                 int32\n",
       "Previous Heart Problems              int64\n",
       "Medication Use                       int64\n",
       "Stress Level                         int64\n",
       "Sedentary Hours Per Day            float64\n",
       "BMI                                float64\n",
       "Triglycerides                        int64\n",
       "Physical Activity Days Per Week      int64\n",
       "Sleep Hours Per Day                  int64\n",
       "dtype: object"
      ]
     },
     "execution_count": 123,
     "metadata": {},
     "output_type": "execute_result"
    }
   ],
   "source": [
    "x_train.dtypes"
   ]
  },
  {
   "cell_type": "markdown",
   "id": "b5a6eab7",
   "metadata": {},
   "source": [
    "# 1 DECISION TREE CLASSIFIER"
   ]
  },
  {
   "cell_type": "code",
   "execution_count": 124,
   "id": "7fa406cf",
   "metadata": {},
   "outputs": [
    {
     "name": "stdout",
     "output_type": "stream",
     "text": [
      "Decision Tree Accuracy: 58.756417569880206\n"
     ]
    }
   ],
   "source": [
    "from sklearn.tree import DecisionTreeClassifier\n",
    "from sklearn.metrics import accuracy_score\n",
    "dt = DecisionTreeClassifier(random_state=42)\n",
    "# Assuming you have preprocessed data and split it into training and validation sets\n",
    "\n",
    "dt.fit(x_train, y_train)  # Train the KNN model\n",
    "\n",
    "# Make predictions on the validation set\n",
    "dt_predictions = dt.predict(x_test)\n",
    "\n",
    "# Calculate Accuracy\n",
    "accuracy = accuracy_score(y_test, dt_predictions)\n",
    "\n",
    "print(\"Decision Tree Accuracy:\", accuracy*100)\n"
   ]
  },
  {
   "cell_type": "markdown",
   "id": "12f22f36",
   "metadata": {},
   "source": [
    "# 2 Decision Tree Regressor"
   ]
  },
  {
   "cell_type": "code",
   "execution_count": 96,
   "id": "1e1953c3",
   "metadata": {},
   "outputs": [
    {
     "name": "stdout",
     "output_type": "stream",
     "text": [
      "Decision Tree Accuracy: 58.756417569880206\n"
     ]
    }
   ],
   "source": [
    "from sklearn.tree import DecisionTreeRegressor\n",
    "from sklearn.metrics import accuracy_score\n",
    "clf = DecisionTreeRegressor()\n",
    "# Assuming you have preprocessed data and split it into training and validation sets\n",
    "\n",
    "clf.fit(x_train, y_train)  # Train the KNN model\n",
    "\n",
    "# Make predictions on the validation set\n",
    "clf_predictions = clf.predict(x_test)\n",
    "\n",
    "# Calculate Accuracy\n",
    "clf_accuracy = accuracy_score(y_test, clf_predictions)\n",
    "\n",
    "print(\"Decision Tree Accuracy:\", accuracy*100)\n"
   ]
  },
  {
   "cell_type": "markdown",
   "id": "bd4bb3bd",
   "metadata": {},
   "source": [
    "# 3 Naive_Bayes (GaussianNB)"
   ]
  },
  {
   "cell_type": "code",
   "execution_count": 97,
   "id": "5cabe7d7",
   "metadata": {},
   "outputs": [
    {
     "name": "stdout",
     "output_type": "stream",
     "text": [
      "Naive Bayes Accuracy: 0.710781517398745\n",
      "              precision    recall  f1-score   support\n",
      "\n",
      "         0.0       0.71      1.00      0.83      1246\n",
      "         1.0       0.00      0.00      0.00       507\n",
      "\n",
      "    accuracy                           0.71      1753\n",
      "   macro avg       0.36      0.50      0.42      1753\n",
      "weighted avg       0.51      0.71      0.59      1753\n",
      "\n"
     ]
    },
    {
     "name": "stderr",
     "output_type": "stream",
     "text": [
      "C:\\ProgramData\\anaconda3\\Lib\\site-packages\\sklearn\\metrics\\_classification.py:1469: UndefinedMetricWarning: Precision and F-score are ill-defined and being set to 0.0 in labels with no predicted samples. Use `zero_division` parameter to control this behavior.\n",
      "  _warn_prf(average, modifier, msg_start, len(result))\n",
      "C:\\ProgramData\\anaconda3\\Lib\\site-packages\\sklearn\\metrics\\_classification.py:1469: UndefinedMetricWarning: Precision and F-score are ill-defined and being set to 0.0 in labels with no predicted samples. Use `zero_division` parameter to control this behavior.\n",
      "  _warn_prf(average, modifier, msg_start, len(result))\n",
      "C:\\ProgramData\\anaconda3\\Lib\\site-packages\\sklearn\\metrics\\_classification.py:1469: UndefinedMetricWarning: Precision and F-score are ill-defined and being set to 0.0 in labels with no predicted samples. Use `zero_division` parameter to control this behavior.\n",
      "  _warn_prf(average, modifier, msg_start, len(result))\n"
     ]
    }
   ],
   "source": [
    "from sklearn.naive_bayes import GaussianNB\n",
    "from sklearn.metrics import accuracy_score, classification_report\n",
    "\n",
    "# Assuming you have preprocessed data and split it into training and testing sets\n",
    "gnb = GaussianNB()\n",
    "gnb.fit(x_train, y_train)  # Train the Gaussian Naive Bayes model\n",
    "\n",
    "# Make predictions on the test set\n",
    "gnb_predictions = gnb.predict(x_test)\n",
    "\n",
    "# Calculate Accuracy\n",
    "accuracy = accuracy_score(y_test, gnb_predictions)\n",
    "print(\"Naive Bayes Accuracy:\", accuracy)\n",
    "\n",
    "# Display a classification report for more detailed evaluation\n",
    "print(classification_report(y_test, gnb_predictions))\n"
   ]
  },
  {
   "cell_type": "code",
   "execution_count": 100,
   "id": "3516006b",
   "metadata": {
    "scrolled": true
   },
   "outputs": [
    {
     "name": "stdout",
     "output_type": "stream",
     "text": [
      "accuracy is  71.0781517398745 %\n"
     ]
    }
   ],
   "source": [
    "print(\"accuracy is \",accuracy*100,\"%\")"
   ]
  },
  {
   "cell_type": "markdown",
   "id": "62343738",
   "metadata": {},
   "source": [
    "# 4 LOGISTIC REGRESSION"
   ]
  },
  {
   "cell_type": "code",
   "execution_count": 101,
   "id": "d03f7f7a",
   "metadata": {},
   "outputs": [],
   "source": [
    "from sklearn.linear_model import LogisticRegression\n",
    "lr=LogisticRegression()\n"
   ]
  },
  {
   "cell_type": "code",
   "execution_count": 102,
   "id": "357ede15",
   "metadata": {},
   "outputs": [
    {
     "name": "stderr",
     "output_type": "stream",
     "text": [
      "C:\\ProgramData\\anaconda3\\Lib\\site-packages\\sklearn\\linear_model\\_logistic.py:460: ConvergenceWarning: lbfgs failed to converge (status=1):\n",
      "STOP: TOTAL NO. of ITERATIONS REACHED LIMIT.\n",
      "\n",
      "Increase the number of iterations (max_iter) or scale the data as shown in:\n",
      "    https://scikit-learn.org/stable/modules/preprocessing.html\n",
      "Please also refer to the documentation for alternative solver options:\n",
      "    https://scikit-learn.org/stable/modules/linear_model.html#logistic-regression\n",
      "  n_iter_i = _check_optimize_result(\n"
     ]
    },
    {
     "data": {
      "text/html": [
       "<style>#sk-container-id-2 {color: black;}#sk-container-id-2 pre{padding: 0;}#sk-container-id-2 div.sk-toggleable {background-color: white;}#sk-container-id-2 label.sk-toggleable__label {cursor: pointer;display: block;width: 100%;margin-bottom: 0;padding: 0.3em;box-sizing: border-box;text-align: center;}#sk-container-id-2 label.sk-toggleable__label-arrow:before {content: \"▸\";float: left;margin-right: 0.25em;color: #696969;}#sk-container-id-2 label.sk-toggleable__label-arrow:hover:before {color: black;}#sk-container-id-2 div.sk-estimator:hover label.sk-toggleable__label-arrow:before {color: black;}#sk-container-id-2 div.sk-toggleable__content {max-height: 0;max-width: 0;overflow: hidden;text-align: left;background-color: #f0f8ff;}#sk-container-id-2 div.sk-toggleable__content pre {margin: 0.2em;color: black;border-radius: 0.25em;background-color: #f0f8ff;}#sk-container-id-2 input.sk-toggleable__control:checked~div.sk-toggleable__content {max-height: 200px;max-width: 100%;overflow: auto;}#sk-container-id-2 input.sk-toggleable__control:checked~label.sk-toggleable__label-arrow:before {content: \"▾\";}#sk-container-id-2 div.sk-estimator input.sk-toggleable__control:checked~label.sk-toggleable__label {background-color: #d4ebff;}#sk-container-id-2 div.sk-label input.sk-toggleable__control:checked~label.sk-toggleable__label {background-color: #d4ebff;}#sk-container-id-2 input.sk-hidden--visually {border: 0;clip: rect(1px 1px 1px 1px);clip: rect(1px, 1px, 1px, 1px);height: 1px;margin: -1px;overflow: hidden;padding: 0;position: absolute;width: 1px;}#sk-container-id-2 div.sk-estimator {font-family: monospace;background-color: #f0f8ff;border: 1px dotted black;border-radius: 0.25em;box-sizing: border-box;margin-bottom: 0.5em;}#sk-container-id-2 div.sk-estimator:hover {background-color: #d4ebff;}#sk-container-id-2 div.sk-parallel-item::after {content: \"\";width: 100%;border-bottom: 1px solid gray;flex-grow: 1;}#sk-container-id-2 div.sk-label:hover label.sk-toggleable__label {background-color: #d4ebff;}#sk-container-id-2 div.sk-serial::before {content: \"\";position: absolute;border-left: 1px solid gray;box-sizing: border-box;top: 0;bottom: 0;left: 50%;z-index: 0;}#sk-container-id-2 div.sk-serial {display: flex;flex-direction: column;align-items: center;background-color: white;padding-right: 0.2em;padding-left: 0.2em;position: relative;}#sk-container-id-2 div.sk-item {position: relative;z-index: 1;}#sk-container-id-2 div.sk-parallel {display: flex;align-items: stretch;justify-content: center;background-color: white;position: relative;}#sk-container-id-2 div.sk-item::before, #sk-container-id-2 div.sk-parallel-item::before {content: \"\";position: absolute;border-left: 1px solid gray;box-sizing: border-box;top: 0;bottom: 0;left: 50%;z-index: -1;}#sk-container-id-2 div.sk-parallel-item {display: flex;flex-direction: column;z-index: 1;position: relative;background-color: white;}#sk-container-id-2 div.sk-parallel-item:first-child::after {align-self: flex-end;width: 50%;}#sk-container-id-2 div.sk-parallel-item:last-child::after {align-self: flex-start;width: 50%;}#sk-container-id-2 div.sk-parallel-item:only-child::after {width: 0;}#sk-container-id-2 div.sk-dashed-wrapped {border: 1px dashed gray;margin: 0 0.4em 0.5em 0.4em;box-sizing: border-box;padding-bottom: 0.4em;background-color: white;}#sk-container-id-2 div.sk-label label {font-family: monospace;font-weight: bold;display: inline-block;line-height: 1.2em;}#sk-container-id-2 div.sk-label-container {text-align: center;}#sk-container-id-2 div.sk-container {/* jupyter's `normalize.less` sets `[hidden] { display: none; }` but bootstrap.min.css set `[hidden] { display: none !important; }` so we also need the `!important` here to be able to override the default hidden behavior on the sphinx rendered scikit-learn.org. See: https://github.com/scikit-learn/scikit-learn/issues/21755 */display: inline-block !important;position: relative;}#sk-container-id-2 div.sk-text-repr-fallback {display: none;}</style><div id=\"sk-container-id-2\" class=\"sk-top-container\"><div class=\"sk-text-repr-fallback\"><pre>LogisticRegression()</pre><b>In a Jupyter environment, please rerun this cell to show the HTML representation or trust the notebook. <br />On GitHub, the HTML representation is unable to render, please try loading this page with nbviewer.org.</b></div><div class=\"sk-container\" hidden><div class=\"sk-item\"><div class=\"sk-estimator sk-toggleable\"><input class=\"sk-toggleable__control sk-hidden--visually\" id=\"sk-estimator-id-2\" type=\"checkbox\" checked><label for=\"sk-estimator-id-2\" class=\"sk-toggleable__label sk-toggleable__label-arrow\">LogisticRegression</label><div class=\"sk-toggleable__content\"><pre>LogisticRegression()</pre></div></div></div></div></div>"
      ],
      "text/plain": [
       "LogisticRegression()"
      ]
     },
     "execution_count": 102,
     "metadata": {},
     "output_type": "execute_result"
    }
   ],
   "source": [
    "lr.fit(x_train,y_train)"
   ]
  },
  {
   "cell_type": "code",
   "execution_count": 103,
   "id": "bf812f91",
   "metadata": {},
   "outputs": [],
   "source": [
    "pred=lr.predict(x_test)\n"
   ]
  },
  {
   "cell_type": "code",
   "execution_count": 104,
   "id": "435abdaa",
   "metadata": {},
   "outputs": [
    {
     "data": {
      "text/plain": [
       "array([0., 0., 0., 0., 0.])"
      ]
     },
     "execution_count": 104,
     "metadata": {},
     "output_type": "execute_result"
    }
   ],
   "source": [
    "pred[0:5]"
   ]
  },
  {
   "cell_type": "code",
   "execution_count": 42,
   "id": "8278d9f8",
   "metadata": {},
   "outputs": [
    {
     "data": {
      "text/plain": [
       "6850    1.0\n",
       "6723    1.0\n",
       "245     0.0\n",
       "1880    0.0\n",
       "6798    0.0\n",
       "Name: Heart Attack Risk, dtype: float64"
      ]
     },
     "execution_count": 42,
     "metadata": {},
     "output_type": "execute_result"
    }
   ],
   "source": [
    "y_test[0:5]"
   ]
  },
  {
   "cell_type": "code",
   "execution_count": 105,
   "id": "361f12ed",
   "metadata": {},
   "outputs": [],
   "source": [
    "from sklearn.metrics import confusion_matrix,classification_report,accuracy_score,auc"
   ]
  },
  {
   "cell_type": "code",
   "execution_count": 106,
   "id": "199804f8",
   "metadata": {
    "scrolled": true
   },
   "outputs": [
    {
     "name": "stdout",
     "output_type": "stream",
     "text": [
      "[[1246    0]\n",
      " [ 507    0]]\n"
     ]
    }
   ],
   "source": [
    "print(confusion_matrix(y_test,pred))"
   ]
  },
  {
   "cell_type": "code",
   "execution_count": 107,
   "id": "7075bb54",
   "metadata": {},
   "outputs": [
    {
     "data": {
      "text/plain": [
       "(1753,)"
      ]
     },
     "execution_count": 107,
     "metadata": {},
     "output_type": "execute_result"
    }
   ],
   "source": [
    "y_test.shape"
   ]
  },
  {
   "cell_type": "code",
   "execution_count": 116,
   "id": "9c935da4",
   "metadata": {},
   "outputs": [
    {
     "data": {
      "text/plain": [
       "0.7151212553495007"
      ]
     },
     "execution_count": 116,
     "metadata": {},
     "output_type": "execute_result"
    }
   ],
   "source": [
    "lr.score(x_train,y_train) #Training accuracy"
   ]
  },
  {
   "cell_type": "code",
   "execution_count": 119,
   "id": "f564bd70",
   "metadata": {},
   "outputs": [
    {
     "name": "stdout",
     "output_type": "stream",
     "text": [
      "71.0781517398745\n"
     ]
    }
   ],
   "source": [
    "print(accuracy_score(pred,y_test)*100) # testing accuracy"
   ]
  },
  {
   "cell_type": "code",
   "execution_count": 120,
   "id": "38fdd207",
   "metadata": {
    "scrolled": true
   },
   "outputs": [
    {
     "name": "stdout",
     "output_type": "stream",
     "text": [
      "              precision    recall  f1-score   support\n",
      "\n",
      "         0.0       0.71      1.00      0.83      1246\n",
      "         1.0       0.00      0.00      0.00       507\n",
      "\n",
      "    accuracy                           0.71      1753\n",
      "   macro avg       0.36      0.50      0.42      1753\n",
      "weighted avg       0.51      0.71      0.59      1753\n",
      "\n"
     ]
    },
    {
     "name": "stderr",
     "output_type": "stream",
     "text": [
      "C:\\ProgramData\\anaconda3\\Lib\\site-packages\\sklearn\\metrics\\_classification.py:1469: UndefinedMetricWarning: Precision and F-score are ill-defined and being set to 0.0 in labels with no predicted samples. Use `zero_division` parameter to control this behavior.\n",
      "  _warn_prf(average, modifier, msg_start, len(result))\n",
      "C:\\ProgramData\\anaconda3\\Lib\\site-packages\\sklearn\\metrics\\_classification.py:1469: UndefinedMetricWarning: Precision and F-score are ill-defined and being set to 0.0 in labels with no predicted samples. Use `zero_division` parameter to control this behavior.\n",
      "  _warn_prf(average, modifier, msg_start, len(result))\n",
      "C:\\ProgramData\\anaconda3\\Lib\\site-packages\\sklearn\\metrics\\_classification.py:1469: UndefinedMetricWarning: Precision and F-score are ill-defined and being set to 0.0 in labels with no predicted samples. Use `zero_division` parameter to control this behavior.\n",
      "  _warn_prf(average, modifier, msg_start, len(result))\n"
     ]
    }
   ],
   "source": [
    "print(classification_report(y_test,pred))"
   ]
  },
  {
   "cell_type": "markdown",
   "id": "b4f0cd5b",
   "metadata": {},
   "source": [
    "# 5 Random Forest Algorithm"
   ]
  },
  {
   "cell_type": "code",
   "execution_count": 126,
   "id": "c57ae2ea",
   "metadata": {},
   "outputs": [
    {
     "name": "stdout",
     "output_type": "stream",
     "text": [
      "Random Forest Accuracy: 71.02110667427267\n"
     ]
    }
   ],
   "source": [
    "from sklearn.ensemble import RandomForestClassifier\n",
    "\n",
    "# Assuming you have preprocessed data and split it into training and validation sets\n",
    "random_forest = RandomForestClassifier(n_estimators=100, random_state=42)  # You can adjust the number of trees (n_estimators)\n",
    "\n",
    "# Train the Random Forest model\n",
    "random_forest.fit(x_train, y_train)\n",
    "\n",
    "# Make predictions on the test set\n",
    "rf_predictions = random_forest.predict(x_test)\n",
    "accuracy = accuracy_score(y_test, rf_predictions)\n",
    "\n",
    "# Print the Accuracy\n",
    "print(\"Random Forest Accuracy:\", accuracy * 100)"
   ]
  }
 ],
 "metadata": {
  "kernelspec": {
   "display_name": "Python 3 (ipykernel)",
   "language": "python",
   "name": "python3"
  },
  "language_info": {
   "codemirror_mode": {
    "name": "ipython",
    "version": 3
   },
   "file_extension": ".py",
   "mimetype": "text/x-python",
   "name": "python",
   "nbconvert_exporter": "python",
   "pygments_lexer": "ipython3",
   "version": "3.10.9"
  }
 },
 "nbformat": 4,
 "nbformat_minor": 5
}
